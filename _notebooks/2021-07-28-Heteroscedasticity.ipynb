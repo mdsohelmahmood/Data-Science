{
 "cells": [
  {
   "cell_type": "markdown",
   "id": "308de6d2",
   "metadata": {},
   "source": [
    "# Heteroscedasticity in python\n",
    "> Use of statsmodel "
   ]
  },
  {
   "cell_type": "code",
   "execution_count": null,
   "id": "f7f97e30",
   "metadata": {},
   "outputs": [],
   "source": [
    "import pandas as pd\n",
    "import numpy as np\n",
    "from random import random"
   ]
  },
  {
   "cell_type": "markdown",
   "id": "34721769",
   "metadata": {},
   "source": [
    "# Homoscedastic data"
   ]
  },
  {
   "cell_type": "code",
   "execution_count": 108,
   "id": "a789b415",
   "metadata": {},
   "outputs": [
    {
     "data": {
      "text/html": [
       "<div>\n",
       "<style scoped>\n",
       "    .dataframe tbody tr th:only-of-type {\n",
       "        vertical-align: middle;\n",
       "    }\n",
       "\n",
       "    .dataframe tbody tr th {\n",
       "        vertical-align: top;\n",
       "    }\n",
       "\n",
       "    .dataframe thead th {\n",
       "        text-align: right;\n",
       "    }\n",
       "</style>\n",
       "<table border=\"1\" class=\"dataframe\">\n",
       "  <thead>\n",
       "    <tr style=\"text-align: right;\">\n",
       "      <th></th>\n",
       "      <th>X</th>\n",
       "      <th>Y</th>\n",
       "    </tr>\n",
       "  </thead>\n",
       "  <tbody>\n",
       "    <tr>\n",
       "      <th>0</th>\n",
       "      <td>0.556561</td>\n",
       "      <td>6.726886</td>\n",
       "    </tr>\n",
       "    <tr>\n",
       "      <th>1</th>\n",
       "      <td>0.863728</td>\n",
       "      <td>7.319267</td>\n",
       "    </tr>\n",
       "    <tr>\n",
       "      <th>2</th>\n",
       "      <td>0.290025</td>\n",
       "      <td>4.498806</td>\n",
       "    </tr>\n",
       "    <tr>\n",
       "      <th>3</th>\n",
       "      <td>0.519170</td>\n",
       "      <td>8.242732</td>\n",
       "    </tr>\n",
       "    <tr>\n",
       "      <th>4</th>\n",
       "      <td>0.823742</td>\n",
       "      <td>8.299956</td>\n",
       "    </tr>\n",
       "    <tr>\n",
       "      <th>...</th>\n",
       "      <td>...</td>\n",
       "      <td>...</td>\n",
       "    </tr>\n",
       "    <tr>\n",
       "      <th>295</th>\n",
       "      <td>0.677121</td>\n",
       "      <td>5.114706</td>\n",
       "    </tr>\n",
       "    <tr>\n",
       "      <th>296</th>\n",
       "      <td>0.446470</td>\n",
       "      <td>5.468886</td>\n",
       "    </tr>\n",
       "    <tr>\n",
       "      <th>297</th>\n",
       "      <td>0.108419</td>\n",
       "      <td>3.728836</td>\n",
       "    </tr>\n",
       "    <tr>\n",
       "      <th>298</th>\n",
       "      <td>0.397281</td>\n",
       "      <td>6.823616</td>\n",
       "    </tr>\n",
       "    <tr>\n",
       "      <th>299</th>\n",
       "      <td>0.645970</td>\n",
       "      <td>7.452578</td>\n",
       "    </tr>\n",
       "  </tbody>\n",
       "</table>\n",
       "<p>300 rows × 2 columns</p>\n",
       "</div>"
      ],
      "text/plain": [
       "            X         Y\n",
       "0    0.556561  6.726886\n",
       "1    0.863728  7.319267\n",
       "2    0.290025  4.498806\n",
       "3    0.519170  8.242732\n",
       "4    0.823742  8.299956\n",
       "..        ...       ...\n",
       "295  0.677121  5.114706\n",
       "296  0.446470  5.468886\n",
       "297  0.108419  3.728836\n",
       "298  0.397281  6.823616\n",
       "299  0.645970  7.452578\n",
       "\n",
       "[300 rows x 2 columns]"
      ]
     },
     "execution_count": 108,
     "metadata": {},
     "output_type": "execute_result"
    }
   ],
   "source": [
    "X = []\n",
    "Y = []\n",
    "for i in range(300):\n",
    "    x = random()\n",
    "    c = random() + 1*random()\n",
    "    y = 5*x + 3*c\n",
    "    X.append(x)\n",
    "    Y.append(y)\n",
    "\n",
    "data = pd.DataFrame(columns = ['X','Y'])\n",
    "data.X = X\n",
    "data.Y = Y\n",
    "data"
   ]
  },
  {
   "cell_type": "code",
   "execution_count": 109,
   "id": "82b1be3e",
   "metadata": {},
   "outputs": [
    {
     "name": "stdout",
     "output_type": "stream",
     "text": [
      "                            OLS Regression Results                            \n",
      "==============================================================================\n",
      "Dep. Variable:                      Y   R-squared:                       0.611\n",
      "Model:                            OLS   Adj. R-squared:                  0.610\n",
      "Method:                 Least Squares   F-statistic:                     468.2\n",
      "Date:                Wed, 28 Jul 2021   Prob (F-statistic):           4.56e-63\n",
      "Time:                        17:11:46   Log-Likelihood:                -461.78\n",
      "No. Observations:                 300   AIC:                             927.6\n",
      "Df Residuals:                     298   BIC:                             935.0\n",
      "Df Model:                           1                                         \n",
      "Covariance Type:            nonrobust                                         \n",
      "==============================================================================\n",
      "                 coef    std err          t      P>|t|      [0.025      0.975]\n",
      "------------------------------------------------------------------------------\n",
      "Intercept      3.0404      0.130     23.321      0.000       2.784       3.297\n",
      "X              4.9368      0.228     21.639      0.000       4.488       5.386\n",
      "==============================================================================\n",
      "Omnibus:                        1.830   Durbin-Watson:                   2.049\n",
      "Prob(Omnibus):                  0.401   Jarque-Bera (JB):                1.585\n",
      "Skew:                           0.033   Prob(JB):                        0.453\n",
      "Kurtosis:                       2.650   Cond. No.                         4.41\n",
      "==============================================================================\n",
      "\n",
      "Notes:\n",
      "[1] Standard Errors assume that the covariance matrix of the errors is correctly specified.\n"
     ]
    }
   ],
   "source": [
    "#fit simple linear regression model\n",
    "model = ols('Y ~ X', data=data).fit()\n",
    "p = model.params\n",
    "\n",
    "#view model summary\n",
    "print(model.summary())"
   ]
  },
  {
   "cell_type": "code",
   "execution_count": 110,
   "id": "c4bf1167",
   "metadata": {},
   "outputs": [
    {
     "data": {
      "text/plain": [
       "Intercept    3.040375\n",
       "X            4.936788\n",
       "dtype: float64"
      ]
     },
     "execution_count": 110,
     "metadata": {},
     "output_type": "execute_result"
    }
   ],
   "source": [
    "p"
   ]
  },
  {
   "cell_type": "code",
   "execution_count": 111,
   "id": "47ad82f4",
   "metadata": {},
   "outputs": [
    {
     "data": {
      "text/plain": [
       "(3.0403754853720484, 4.9367875427951295)"
      ]
     },
     "execution_count": 111,
     "metadata": {},
     "output_type": "execute_result"
    }
   ],
   "source": [
    "p.Intercept, p.X"
   ]
  },
  {
   "cell_type": "code",
   "execution_count": 112,
   "id": "106cef7c",
   "metadata": {},
   "outputs": [
    {
     "data": {
      "text/plain": [
       "[<matplotlib.lines.Line2D at 0x240cc526220>]"
      ]
     },
     "execution_count": 112,
     "metadata": {},
     "output_type": "execute_result"
    },
    {
     "data": {
      "image/png": "[encoded data removed]",
      "text/plain": [
       "<Figure size 432x288 with 1 Axes>"
      ]
     },
     "metadata": {
      "needs_background": "light"
     },
     "output_type": "display_data"
    }
   ],
   "source": [
    "ax = data.plot(kind='scatter', x='X', y='Y')\n",
    "ax.plot(X, p.Intercept + p.X*np.array(X),'r')"
   ]
  },
  {
   "cell_type": "markdown",
   "id": "f94757e7",
   "metadata": {},
   "source": [
    "# Heteroscedastic data"
   ]
  },
  {
   "cell_type": "code",
   "execution_count": 180,
   "id": "85f4781c",
   "metadata": {},
   "outputs": [
    {
     "data": {
      "text/plain": [
       "[<matplotlib.lines.Line2D at 0x240d13c9280>]"
      ]
     },
     "execution_count": 180,
     "metadata": {},
     "output_type": "execute_result"
    },
    {
     "data": {
      "image/png": "[encoded data removed]",
      "text/plain": [
       "<Figure size 432x288 with 1 Axes>"
      ]
     },
     "metadata": {
      "needs_background": "light"
     },
     "output_type": "display_data"
    }
   ],
   "source": [
    "data = pd.read_excel('sample_heteroscedasticity_data.xlsx')\n",
    "X = data['var1'] \n",
    "Y = data['var2']\n",
    "plt.plot(X,Y,'o')"
   ]
  },
  {
   "cell_type": "code",
   "execution_count": 181,
   "id": "f0b293b7",
   "metadata": {},
   "outputs": [
    {
     "data": {
      "text/plain": [
       "0        1\n",
       "1        2\n",
       "2        3\n",
       "3        4\n",
       "4        5\n",
       "      ... \n",
       "195     96\n",
       "196     97\n",
       "197     98\n",
       "198     99\n",
       "199    100\n",
       "Name: var1, Length: 200, dtype: int64"
      ]
     },
     "execution_count": 181,
     "metadata": {},
     "output_type": "execute_result"
    }
   ],
   "source": [
    "X"
   ]
  },
  {
   "cell_type": "code",
   "execution_count": 141,
   "id": "b4315109",
   "metadata": {},
   "outputs": [
    {
     "data": {
      "text/plain": [
       "[<matplotlib.lines.Line2D at 0x240cc38fc70>]"
      ]
     },
     "execution_count": 141,
     "metadata": {},
     "output_type": "execute_result"
    },
    {
     "data": {
      "image/png": "[encoded data removed]",
      "text/plain": [
       "<Figure size 432x288 with 1 Axes>"
      ]
     },
     "metadata": {
      "needs_background": "light"
     },
     "output_type": "display_data"
    }
   ],
   "source": [
    "model = ols('Y ~ X', data=data).fit()\n",
    "p = model.params\n",
    "\n",
    "ax = data.plot(kind='scatter', x='var1', y='var2')\n",
    "ax.plot(X, p.Intercept + p.X*np.array(X),'r')"
   ]
  },
  {
   "cell_type": "code",
   "execution_count": 122,
   "id": "0a2881ff",
   "metadata": {},
   "outputs": [
    {
     "name": "stdout",
     "output_type": "stream",
     "text": [
      "                            OLS Regression Results                            \n",
      "==============================================================================\n",
      "Dep. Variable:                      Y   R-squared:                       0.799\n",
      "Model:                            OLS   Adj. R-squared:                  0.798\n",
      "Method:                 Least Squares   F-statistic:                     786.2\n",
      "Date:                Wed, 28 Jul 2021   Prob (F-statistic):           7.18e-71\n",
      "Time:                        17:16:54   Log-Likelihood:                -825.66\n",
      "No. Observations:                 200   AIC:                             1655.\n",
      "Df Residuals:                     198   BIC:                             1662.\n",
      "Df Model:                           1                                         \n",
      "Covariance Type:            nonrobust                                         \n",
      "==============================================================================\n",
      "                 coef    std err          t      P>|t|      [0.025      0.975]\n",
      "------------------------------------------------------------------------------\n",
      "Intercept     -0.6606      2.151     -0.307      0.759      -4.902       3.581\n",
      "X              1.0368      0.037     28.039      0.000       0.964       1.110\n",
      "==============================================================================\n",
      "Omnibus:                       33.905   Durbin-Watson:                   1.995\n",
      "Prob(Omnibus):                  0.000   Jarque-Bera (JB):              164.943\n",
      "Skew:                           0.472   Prob(JB):                     1.52e-36\n",
      "Kurtosis:                       7.348   Cond. No.                         117.\n",
      "==============================================================================\n",
      "\n",
      "Notes:\n",
      "[1] Standard Errors assume that the covariance matrix of the errors is correctly specified.\n"
     ]
    }
   ],
   "source": [
    "model = ols('Y ~ X', data=data).fit()\n",
    "print(model.summary())"
   ]
  },
  {
   "cell_type": "code",
   "execution_count": 125,
   "id": "c31b0ac7",
   "metadata": {},
   "outputs": [],
   "source": [
    "from statsmodels.stats.diagnostic import het_white\n",
    "from statsmodels.compat import lzip\n",
    "from patsy import dmatrices"
   ]
  },
  {
   "cell_type": "code",
   "execution_count": 127,
   "id": "c0af9c95",
   "metadata": {},
   "outputs": [],
   "source": [
    "expr = 'var2~ var1'\n",
    "y, X = dmatrices(expr, data, return_type='dataframe')"
   ]
  },
  {
   "cell_type": "code",
   "execution_count": 129,
   "id": "1a4a9d7d",
   "metadata": {},
   "outputs": [
    {
     "data": {
      "text/plain": [
       "[('Lagrange Multiplier statistic:', 23.080654955447134),\n",
       " (\"LM test's p-value:\", 9.729700165356245e-06),\n",
       " ('F-statistic:', 12.850174821408205),\n",
       " (\"F-test's p-value:\", 5.680868506694736e-06)]"
      ]
     },
     "execution_count": 129,
     "metadata": {},
     "output_type": "execute_result"
    }
   ],
   "source": [
    "keys = ['Lagrange Multiplier statistic:', 'LM test\\'s p-value:', 'F-statistic:', 'F-test\\'s p-value:']\n",
    "results = het_white(model.resid, X)\n",
    "lzip(keys, results)"
   ]
  },
  {
   "cell_type": "markdown",
   "id": "c5b9236c",
   "metadata": {},
   "source": [
    "# Data Transformation"
   ]
  },
  {
   "cell_type": "code",
   "execution_count": 206,
   "id": "29106cd7",
   "metadata": {},
   "outputs": [
    {
     "data": {
      "image/png": "[encoded data removed]",
      "text/plain": [
       "<Figure size 432x288 with 1 Axes>"
      ]
     },
     "metadata": {
      "needs_background": "light"
     },
     "output_type": "display_data"
    }
   ],
   "source": [
    "data = pd.read_excel('sample_heteroscedasticity_data.xlsx')\n",
    "X = data['var1'] \n",
    "Y = np.log(data['var2'])\n",
    "plt.plot(X,Y,'o')\n",
    "plt.yscale(\"log\")"
   ]
  },
  {
   "cell_type": "code",
   "execution_count": 207,
   "id": "ff3aca0f",
   "metadata": {},
   "outputs": [
    {
     "data": {
      "text/html": [
       "<div>\n",
       "<style scoped>\n",
       "    .dataframe tbody tr th:only-of-type {\n",
       "        vertical-align: middle;\n",
       "    }\n",
       "\n",
       "    .dataframe tbody tr th {\n",
       "        vertical-align: top;\n",
       "    }\n",
       "\n",
       "    .dataframe thead th {\n",
       "        text-align: right;\n",
       "    }\n",
       "</style>\n",
       "<table border=\"1\" class=\"dataframe\">\n",
       "  <thead>\n",
       "    <tr style=\"text-align: right;\">\n",
       "      <th></th>\n",
       "      <th>var1</th>\n",
       "      <th>var2</th>\n",
       "    </tr>\n",
       "  </thead>\n",
       "  <tbody>\n",
       "    <tr>\n",
       "      <th>0</th>\n",
       "      <td>1</td>\n",
       "      <td>-0.473549</td>\n",
       "    </tr>\n",
       "    <tr>\n",
       "      <th>1</th>\n",
       "      <td>2</td>\n",
       "      <td>0.107743</td>\n",
       "    </tr>\n",
       "    <tr>\n",
       "      <th>2</th>\n",
       "      <td>3</td>\n",
       "      <td>1.254872</td>\n",
       "    </tr>\n",
       "    <tr>\n",
       "      <th>3</th>\n",
       "      <td>4</td>\n",
       "      <td>1.388049</td>\n",
       "    </tr>\n",
       "    <tr>\n",
       "      <th>4</th>\n",
       "      <td>5</td>\n",
       "      <td>1.511434</td>\n",
       "    </tr>\n",
       "    <tr>\n",
       "      <th>...</th>\n",
       "      <td>...</td>\n",
       "      <td>...</td>\n",
       "    </tr>\n",
       "    <tr>\n",
       "      <th>195</th>\n",
       "      <td>96</td>\n",
       "      <td>4.740987</td>\n",
       "    </tr>\n",
       "    <tr>\n",
       "      <th>196</th>\n",
       "      <td>97</td>\n",
       "      <td>4.555702</td>\n",
       "    </tr>\n",
       "    <tr>\n",
       "      <th>197</th>\n",
       "      <td>98</td>\n",
       "      <td>4.659135</td>\n",
       "    </tr>\n",
       "    <tr>\n",
       "      <th>198</th>\n",
       "      <td>99</td>\n",
       "      <td>5.164662</td>\n",
       "    </tr>\n",
       "    <tr>\n",
       "      <th>199</th>\n",
       "      <td>100</td>\n",
       "      <td>4.515980</td>\n",
       "    </tr>\n",
       "  </tbody>\n",
       "</table>\n",
       "<p>200 rows × 2 columns</p>\n",
       "</div>"
      ],
      "text/plain": [
       "     var1      var2\n",
       "0       1 -0.473549\n",
       "1       2  0.107743\n",
       "2       3  1.254872\n",
       "3       4  1.388049\n",
       "4       5  1.511434\n",
       "..    ...       ...\n",
       "195    96  4.740987\n",
       "196    97  4.555702\n",
       "197    98  4.659135\n",
       "198    99  5.164662\n",
       "199   100  4.515980\n",
       "\n",
       "[200 rows x 2 columns]"
      ]
     },
     "execution_count": 207,
     "metadata": {},
     "output_type": "execute_result"
    }
   ],
   "source": [
    "dataX = pd.DataFrame(columns=['var1','var2'])\n",
    "dataX.var1 = X\n",
    "dataX.var2 = Y\n",
    "dataX"
   ]
  },
  {
   "cell_type": "code",
   "execution_count": 210,
   "id": "687a47ca",
   "metadata": {},
   "outputs": [
    {
     "data": {
      "text/plain": [
       "[<matplotlib.lines.Line2D at 0x240cd7fe880>,\n",
       " <matplotlib.lines.Line2D at 0x240ceb57cd0>]"
      ]
     },
     "execution_count": 210,
     "metadata": {},
     "output_type": "execute_result"
    },
    {
     "data": {
      "image/png": "[encoded data removed]",
      "text/plain": [
       "<Figure size 432x288 with 1 Axes>"
      ]
     },
     "metadata": {
      "needs_background": "light"
     },
     "output_type": "display_data"
    }
   ],
   "source": [
    "model = ols('var2 ~ var1', data=dataX).fit()\n",
    "p = model.params\n",
    "dataX = dataX[dataX['var2'] > 2.5]\n",
    "ax = dataX.plot(kind='scatter', x='var1', y='var2')\n",
    "ax.plot(X, p.Intercept + p.var1*np.array(X),'r')\n",
    "# plt.yscale(\"log\")"
   ]
  },
  {
   "cell_type": "code",
   "execution_count": 209,
   "id": "07a2c2aa",
   "metadata": {},
   "outputs": [
    {
     "data": {
      "text/plain": [
       "[('Lagrange Multiplier statistic:', 1.5156231931616286),\n",
       " (\"LM test's p-value:\", 0.46869099048803),\n",
       " ('F-statistic:', 0.7510952808302751),\n",
       " (\"F-test's p-value:\", 0.4734461091533566)]"
      ]
     },
     "execution_count": 209,
     "metadata": {},
     "output_type": "execute_result"
    }
   ],
   "source": [
    "model = ols('var2 ~ var1', data=dataX).fit()\n",
    "expr = 'var2~ var1'\n",
    "y, X = dmatrices(expr, dataX, return_type='dataframe')\n",
    "\n",
    "keys = ['Lagrange Multiplier statistic:', 'LM test\\'s p-value:', 'F-statistic:', 'F-test\\'s p-value:']\n",
    "results = het_white(model.resid, X)\n",
    "lzip(keys, results)"
   ]
  },
  {
   "cell_type": "code",
   "execution_count": null,
   "id": "5ee3fd6c",
   "metadata": {},
   "outputs": [],
   "source": []
  },
  {
   "cell_type": "code",
   "execution_count": null,
   "id": "5e3a2b3f",
   "metadata": {},
   "outputs": [],
   "source": []
  }
 ],
 "metadata": {
  "kernelspec": {
   "display_name": "Python 3",
   "language": "python",
   "name": "python3"
  },
  "language_info": {
   "codemirror_mode": {
    "name": "ipython",
    "version": 3
   },
   "file_extension": ".py",
   "mimetype": "text/x-python",
   "name": "python",
   "nbconvert_exporter": "python",
   "pygments_lexer": "ipython3",
   "version": "3.8.8"
  }
 },
 "nbformat": 4,
 "nbformat_minor": 5
}
